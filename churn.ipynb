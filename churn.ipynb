{
 "cells": [
  {
   "cell_type": "markdown",
   "metadata": {},
   "source": [
    "# E-commerce Technologies Coursework 2\n",
    "## Churn Predictions"
   ]
  },
  {
   "cell_type": "markdown",
   "metadata": {},
   "source": [
    "### 1. Setup\n"
   ]
  },
  {
   "cell_type": "code",
   "execution_count": 5,
   "metadata": {},
   "outputs": [],
   "source": [
    "#  import the necessary libraries \n",
    "import pandas as pd\n",
    "import graphviz\n",
    "from sklearn import tree\n",
    " \n",
    "from sklearn.metrics import accuracy_score, classification_report\n",
    "from sklearn.model_selection import train_test_split\n",
    "from sklearn.tree import DecisionTreeClassifier"
   ]
  },
  {
   "cell_type": "markdown",
   "metadata": {},
   "source": [
    "### 2. Get Data"
   ]
  },
  {
   "cell_type": "code",
   "execution_count": 2,
   "metadata": {},
   "outputs": [],
   "source": [
    "# get data\n",
    "data = pd.read_csv('MOCK_DATA.csv', header = 0)"
   ]
  },
  {
   "cell_type": "code",
   "execution_count": 3,
   "metadata": {},
   "outputs": [
    {
     "data": {
      "text/html": [
       "<div>\n",
       "<style scoped>\n",
       "    .dataframe tbody tr th:only-of-type {\n",
       "        vertical-align: middle;\n",
       "    }\n",
       "\n",
       "    .dataframe tbody tr th {\n",
       "        vertical-align: top;\n",
       "    }\n",
       "\n",
       "    .dataframe thead th {\n",
       "        text-align: right;\n",
       "    }\n",
       "</style>\n",
       "<table border=\"1\" class=\"dataframe\">\n",
       "  <thead>\n",
       "    <tr style=\"text-align: right;\">\n",
       "      <th></th>\n",
       "      <th>customer_id</th>\n",
       "      <th>account_length</th>\n",
       "      <th>total_orders</th>\n",
       "      <th>total_amount_spent</th>\n",
       "      <th>days_since_last_purchase</th>\n",
       "      <th>experience</th>\n",
       "      <th>product_range</th>\n",
       "      <th>likeliness_to_recommend</th>\n",
       "      <th>product_quality</th>\n",
       "      <th>time_spent_in_the_shop_last</th>\n",
       "      <th>page_views_last</th>\n",
       "      <th>churn</th>\n",
       "    </tr>\n",
       "  </thead>\n",
       "  <tbody>\n",
       "    <tr>\n",
       "      <th>0</th>\n",
       "      <td>1</td>\n",
       "      <td>61</td>\n",
       "      <td>4</td>\n",
       "      <td>439</td>\n",
       "      <td>69</td>\n",
       "      <td>4</td>\n",
       "      <td>1</td>\n",
       "      <td>3</td>\n",
       "      <td>2</td>\n",
       "      <td>5</td>\n",
       "      <td>5</td>\n",
       "      <td>1</td>\n",
       "    </tr>\n",
       "    <tr>\n",
       "      <th>1</th>\n",
       "      <td>2</td>\n",
       "      <td>28</td>\n",
       "      <td>5</td>\n",
       "      <td>135</td>\n",
       "      <td>36</td>\n",
       "      <td>3</td>\n",
       "      <td>2</td>\n",
       "      <td>1</td>\n",
       "      <td>3</td>\n",
       "      <td>48</td>\n",
       "      <td>10</td>\n",
       "      <td>1</td>\n",
       "    </tr>\n",
       "    <tr>\n",
       "      <th>2</th>\n",
       "      <td>3</td>\n",
       "      <td>81</td>\n",
       "      <td>2</td>\n",
       "      <td>391</td>\n",
       "      <td>61</td>\n",
       "      <td>3</td>\n",
       "      <td>3</td>\n",
       "      <td>2</td>\n",
       "      <td>3</td>\n",
       "      <td>28</td>\n",
       "      <td>17</td>\n",
       "      <td>1</td>\n",
       "    </tr>\n",
       "    <tr>\n",
       "      <th>3</th>\n",
       "      <td>4</td>\n",
       "      <td>42</td>\n",
       "      <td>3</td>\n",
       "      <td>439</td>\n",
       "      <td>45</td>\n",
       "      <td>1</td>\n",
       "      <td>3</td>\n",
       "      <td>3</td>\n",
       "      <td>2</td>\n",
       "      <td>44</td>\n",
       "      <td>6</td>\n",
       "      <td>1</td>\n",
       "    </tr>\n",
       "    <tr>\n",
       "      <th>4</th>\n",
       "      <td>5</td>\n",
       "      <td>15</td>\n",
       "      <td>3</td>\n",
       "      <td>462</td>\n",
       "      <td>48</td>\n",
       "      <td>3</td>\n",
       "      <td>1</td>\n",
       "      <td>3</td>\n",
       "      <td>4</td>\n",
       "      <td>10</td>\n",
       "      <td>15</td>\n",
       "      <td>1</td>\n",
       "    </tr>\n",
       "  </tbody>\n",
       "</table>\n",
       "</div>"
      ],
      "text/plain": [
       "   customer_id  account_length  total_orders  total_amount_spent  \\\n",
       "0            1              61             4                 439   \n",
       "1            2              28             5                 135   \n",
       "2            3              81             2                 391   \n",
       "3            4              42             3                 439   \n",
       "4            5              15             3                 462   \n",
       "\n",
       "   days_since_last_purchase  experience  product_range  \\\n",
       "0                        69           4              1   \n",
       "1                        36           3              2   \n",
       "2                        61           3              3   \n",
       "3                        45           1              3   \n",
       "4                        48           3              1   \n",
       "\n",
       "   likeliness_to_recommend  product_quality  time_spent_in_the_shop_last  \\\n",
       "0                        3                2                            5   \n",
       "1                        1                3                           48   \n",
       "2                        2                3                           28   \n",
       "3                        3                2                           44   \n",
       "4                        3                4                           10   \n",
       "\n",
       "   page_views_last  churn  \n",
       "0                5      1  \n",
       "1               10      1  \n",
       "2               17      1  \n",
       "3                6      1  \n",
       "4               15      1  "
      ]
     },
     "execution_count": 3,
     "metadata": {},
     "output_type": "execute_result"
    }
   ],
   "source": [
    "data.head()"
   ]
  },
  {
   "cell_type": "code",
   "execution_count": 13,
   "metadata": {},
   "outputs": [],
   "source": [
    "# features\n",
    "train = data.iloc[:, 1:10]\n",
    "# category, i.e. churn (1), not churn (0)\n",
    "label = data['churn']"
   ]
  },
  {
   "cell_type": "code",
   "execution_count": 14,
   "metadata": {},
   "outputs": [
    {
     "data": {
      "text/html": [
       "<div>\n",
       "<style scoped>\n",
       "    .dataframe tbody tr th:only-of-type {\n",
       "        vertical-align: middle;\n",
       "    }\n",
       "\n",
       "    .dataframe tbody tr th {\n",
       "        vertical-align: top;\n",
       "    }\n",
       "\n",
       "    .dataframe thead th {\n",
       "        text-align: right;\n",
       "    }\n",
       "</style>\n",
       "<table border=\"1\" class=\"dataframe\">\n",
       "  <thead>\n",
       "    <tr style=\"text-align: right;\">\n",
       "      <th></th>\n",
       "      <th>account_length</th>\n",
       "      <th>total_orders</th>\n",
       "      <th>total_amount_spent</th>\n",
       "      <th>days_since_last_purchase</th>\n",
       "      <th>experience</th>\n",
       "      <th>product_range</th>\n",
       "      <th>likeliness_to_recommend</th>\n",
       "      <th>product_quality</th>\n",
       "      <th>time_spent_in_the_shop_last</th>\n",
       "    </tr>\n",
       "  </thead>\n",
       "  <tbody>\n",
       "    <tr>\n",
       "      <th>0</th>\n",
       "      <td>61</td>\n",
       "      <td>4</td>\n",
       "      <td>439</td>\n",
       "      <td>69</td>\n",
       "      <td>4</td>\n",
       "      <td>1</td>\n",
       "      <td>3</td>\n",
       "      <td>2</td>\n",
       "      <td>5</td>\n",
       "    </tr>\n",
       "    <tr>\n",
       "      <th>1</th>\n",
       "      <td>28</td>\n",
       "      <td>5</td>\n",
       "      <td>135</td>\n",
       "      <td>36</td>\n",
       "      <td>3</td>\n",
       "      <td>2</td>\n",
       "      <td>1</td>\n",
       "      <td>3</td>\n",
       "      <td>48</td>\n",
       "    </tr>\n",
       "    <tr>\n",
       "      <th>2</th>\n",
       "      <td>81</td>\n",
       "      <td>2</td>\n",
       "      <td>391</td>\n",
       "      <td>61</td>\n",
       "      <td>3</td>\n",
       "      <td>3</td>\n",
       "      <td>2</td>\n",
       "      <td>3</td>\n",
       "      <td>28</td>\n",
       "    </tr>\n",
       "    <tr>\n",
       "      <th>3</th>\n",
       "      <td>42</td>\n",
       "      <td>3</td>\n",
       "      <td>439</td>\n",
       "      <td>45</td>\n",
       "      <td>1</td>\n",
       "      <td>3</td>\n",
       "      <td>3</td>\n",
       "      <td>2</td>\n",
       "      <td>44</td>\n",
       "    </tr>\n",
       "    <tr>\n",
       "      <th>4</th>\n",
       "      <td>15</td>\n",
       "      <td>3</td>\n",
       "      <td>462</td>\n",
       "      <td>48</td>\n",
       "      <td>3</td>\n",
       "      <td>1</td>\n",
       "      <td>3</td>\n",
       "      <td>4</td>\n",
       "      <td>10</td>\n",
       "    </tr>\n",
       "  </tbody>\n",
       "</table>\n",
       "</div>"
      ],
      "text/plain": [
       "   account_length  total_orders  total_amount_spent  days_since_last_purchase  \\\n",
       "0              61             4                 439                        69   \n",
       "1              28             5                 135                        36   \n",
       "2              81             2                 391                        61   \n",
       "3              42             3                 439                        45   \n",
       "4              15             3                 462                        48   \n",
       "\n",
       "   experience  product_range  likeliness_to_recommend  product_quality  \\\n",
       "0           4              1                        3                2   \n",
       "1           3              2                        1                3   \n",
       "2           3              3                        2                3   \n",
       "3           1              3                        3                2   \n",
       "4           3              1                        3                4   \n",
       "\n",
       "   time_spent_in_the_shop_last  \n",
       "0                            5  \n",
       "1                           48  \n",
       "2                           28  \n",
       "3                           44  \n",
       "4                           10  "
      ]
     },
     "execution_count": 14,
     "metadata": {},
     "output_type": "execute_result"
    }
   ],
   "source": [
    "train.head()"
   ]
  },
  {
   "cell_type": "code",
   "execution_count": 15,
   "metadata": {},
   "outputs": [],
   "source": [
    "# Split the data in training and testing sets\n",
    "X_train, X_test, y_train, y_test = train_test_split(train, label, test_size=0.2, random_state=0)"
   ]
  },
  {
   "cell_type": "markdown",
   "metadata": {},
   "source": [
    "### 3. Create a Decision Tree"
   ]
  },
  {
   "cell_type": "code",
   "execution_count": 16,
   "metadata": {},
   "outputs": [
    {
     "data": {
      "text/plain": [
       "DecisionTreeClassifier(max_depth=5, random_state=42)"
      ]
     },
     "execution_count": 16,
     "metadata": {},
     "output_type": "execute_result"
    }
   ],
   "source": [
    "# instantiate the decision tree model\n",
    "clf = DecisionTreeClassifier(max_depth=5, random_state=42)\n",
    "# train the model\n",
    "clf.fit(X_train, y_train)"
   ]
  },
  {
   "cell_type": "code",
   "execution_count": 17,
   "metadata": {},
   "outputs": [
    {
     "data": {
      "image/svg+xml": "<?xml version=\"1.0\" encoding=\"UTF-8\" standalone=\"no\"?>\n<!DOCTYPE svg PUBLIC \"-//W3C//DTD SVG 1.1//EN\"\n \"http://www.w3.org/Graphics/SVG/1.1/DTD/svg11.dtd\">\n<!-- Generated by graphviz version 3.0.0 (20220226.1711)\n -->\n<!-- Title: Tree Pages: 1 -->\n<svg width=\"528pt\" height=\"433pt\"\n viewBox=\"0.00 0.00 527.50 433.00\" xmlns=\"http://www.w3.org/2000/svg\" xmlns:xlink=\"http://www.w3.org/1999/xlink\">\n<g id=\"graph0\" class=\"graph\" transform=\"scale(1 1) rotate(0) translate(4 429)\">\n<title>Tree</title>\n<polygon fill=\"white\" stroke=\"transparent\" points=\"-4,4 -4,-429 523.5,-429 523.5,4 -4,4\"/>\n<!-- 0 -->\n<g id=\"node1\" class=\"node\">\n<title>0</title>\n<polygon fill=\"#ffffff\" stroke=\"black\" points=\"235,-425 89,-425 89,-342 235,-342 235,-425\"/>\n<text text-anchor=\"middle\" x=\"162\" y=\"-409.8\" font-family=\"Helvetica,sans-Serif\" font-size=\"14.00\">product_range &lt;= 2.5</text>\n<text text-anchor=\"middle\" x=\"162\" y=\"-394.8\" font-family=\"Helvetica,sans-Serif\" font-size=\"14.00\">gini = 0.5</text>\n<text text-anchor=\"middle\" x=\"162\" y=\"-379.8\" font-family=\"Helvetica,sans-Serif\" font-size=\"14.00\">samples = 80</text>\n<text text-anchor=\"middle\" x=\"162\" y=\"-364.8\" font-family=\"Helvetica,sans-Serif\" font-size=\"14.00\">value = [40, 40]</text>\n<text text-anchor=\"middle\" x=\"162\" y=\"-349.8\" font-family=\"Helvetica,sans-Serif\" font-size=\"14.00\">class = Not Churn</text>\n</g>\n<!-- 1 -->\n<g id=\"node2\" class=\"node\">\n<title>1</title>\n<polygon fill=\"#399de5\" stroke=\"black\" points=\"122,-298.5 20,-298.5 20,-230.5 122,-230.5 122,-298.5\"/>\n<text text-anchor=\"middle\" x=\"71\" y=\"-283.3\" font-family=\"Helvetica,sans-Serif\" font-size=\"14.00\">gini = 0.0</text>\n<text text-anchor=\"middle\" x=\"71\" y=\"-268.3\" font-family=\"Helvetica,sans-Serif\" font-size=\"14.00\">samples = 31</text>\n<text text-anchor=\"middle\" x=\"71\" y=\"-253.3\" font-family=\"Helvetica,sans-Serif\" font-size=\"14.00\">value = [0, 31]</text>\n<text text-anchor=\"middle\" x=\"71\" y=\"-238.3\" font-family=\"Helvetica,sans-Serif\" font-size=\"14.00\">class = Churn</text>\n</g>\n<!-- 0&#45;&gt;1 -->\n<g id=\"edge1\" class=\"edge\">\n<title>0&#45;&gt;1</title>\n<path fill=\"none\" stroke=\"black\" d=\"M130.43,-341.91C121.59,-330.54 111.97,-318.18 103.1,-306.77\"/>\n<polygon fill=\"black\" stroke=\"black\" points=\"105.7,-304.41 96.8,-298.67 100.17,-308.71 105.7,-304.41\"/>\n<text text-anchor=\"middle\" x=\"93.7\" y=\"-319.77\" font-family=\"Helvetica,sans-Serif\" font-size=\"14.00\">True</text>\n</g>\n<!-- 2 -->\n<g id=\"node3\" class=\"node\">\n<title>2</title>\n<polygon fill=\"#eb9d66\" stroke=\"black\" points=\"366,-306 140,-306 140,-223 366,-223 366,-306\"/>\n<text text-anchor=\"middle\" x=\"253\" y=\"-290.8\" font-family=\"Helvetica,sans-Serif\" font-size=\"14.00\">days_since_last_purchase &lt;= 44.5</text>\n<text text-anchor=\"middle\" x=\"253\" y=\"-275.8\" font-family=\"Helvetica,sans-Serif\" font-size=\"14.00\">gini = 0.3</text>\n<text text-anchor=\"middle\" x=\"253\" y=\"-260.8\" font-family=\"Helvetica,sans-Serif\" font-size=\"14.00\">samples = 49</text>\n<text text-anchor=\"middle\" x=\"253\" y=\"-245.8\" font-family=\"Helvetica,sans-Serif\" font-size=\"14.00\">value = [40, 9]</text>\n<text text-anchor=\"middle\" x=\"253\" y=\"-230.8\" font-family=\"Helvetica,sans-Serif\" font-size=\"14.00\">class = Not Churn</text>\n</g>\n<!-- 0&#45;&gt;2 -->\n<g id=\"edge2\" class=\"edge\">\n<title>0&#45;&gt;2</title>\n<path fill=\"none\" stroke=\"black\" d=\"M193.57,-341.91C200.56,-332.92 208.03,-323.32 215.24,-314.05\"/>\n<polygon fill=\"black\" stroke=\"black\" points=\"218.11,-316.06 221.48,-306.02 212.58,-311.77 218.11,-316.06\"/>\n<text text-anchor=\"middle\" x=\"224.58\" y=\"-327.13\" font-family=\"Helvetica,sans-Serif\" font-size=\"14.00\">False</text>\n</g>\n<!-- 3 -->\n<g id=\"node4\" class=\"node\">\n<title>3</title>\n<polygon fill=\"#e6843e\" stroke=\"black\" points=\"249.5,-187 98.5,-187 98.5,-104 249.5,-104 249.5,-187\"/>\n<text text-anchor=\"middle\" x=\"174\" y=\"-171.8\" font-family=\"Helvetica,sans-Serif\" font-size=\"14.00\">product_quality &lt;= 1.5</text>\n<text text-anchor=\"middle\" x=\"174\" y=\"-156.8\" font-family=\"Helvetica,sans-Serif\" font-size=\"14.00\">gini = 0.051</text>\n<text text-anchor=\"middle\" x=\"174\" y=\"-141.8\" font-family=\"Helvetica,sans-Serif\" font-size=\"14.00\">samples = 38</text>\n<text text-anchor=\"middle\" x=\"174\" y=\"-126.8\" font-family=\"Helvetica,sans-Serif\" font-size=\"14.00\">value = [37, 1]</text>\n<text text-anchor=\"middle\" x=\"174\" y=\"-111.8\" font-family=\"Helvetica,sans-Serif\" font-size=\"14.00\">class = Not Churn</text>\n</g>\n<!-- 2&#45;&gt;3 -->\n<g id=\"edge3\" class=\"edge\">\n<title>2&#45;&gt;3</title>\n<path fill=\"none\" stroke=\"black\" d=\"M225.59,-222.91C219.59,-214.01 213.17,-204.51 206.97,-195.33\"/>\n<polygon fill=\"black\" stroke=\"black\" points=\"209.86,-193.35 201.36,-187.02 204.06,-197.27 209.86,-193.35\"/>\n</g>\n<!-- 6 -->\n<g id=\"node7\" class=\"node\">\n<title>6</title>\n<polygon fill=\"#83c2ef\" stroke=\"black\" points=\"398.5,-187 267.5,-187 267.5,-104 398.5,-104 398.5,-187\"/>\n<text text-anchor=\"middle\" x=\"333\" y=\"-171.8\" font-family=\"Helvetica,sans-Serif\" font-size=\"14.00\">total_orders &lt;= 6.5</text>\n<text text-anchor=\"middle\" x=\"333\" y=\"-156.8\" font-family=\"Helvetica,sans-Serif\" font-size=\"14.00\">gini = 0.397</text>\n<text text-anchor=\"middle\" x=\"333\" y=\"-141.8\" font-family=\"Helvetica,sans-Serif\" font-size=\"14.00\">samples = 11</text>\n<text text-anchor=\"middle\" x=\"333\" y=\"-126.8\" font-family=\"Helvetica,sans-Serif\" font-size=\"14.00\">value = [3, 8]</text>\n<text text-anchor=\"middle\" x=\"333\" y=\"-111.8\" font-family=\"Helvetica,sans-Serif\" font-size=\"14.00\">class = Churn</text>\n</g>\n<!-- 2&#45;&gt;6 -->\n<g id=\"edge6\" class=\"edge\">\n<title>2&#45;&gt;6</title>\n<path fill=\"none\" stroke=\"black\" d=\"M280.76,-222.91C286.84,-214.01 293.34,-204.51 299.61,-195.33\"/>\n<polygon fill=\"black\" stroke=\"black\" points=\"302.54,-197.25 305.29,-187.02 296.76,-193.3 302.54,-197.25\"/>\n</g>\n<!-- 4 -->\n<g id=\"node5\" class=\"node\">\n<title>4</title>\n<polygon fill=\"#399de5\" stroke=\"black\" points=\"100,-68 0,-68 0,0 100,0 100,-68\"/>\n<text text-anchor=\"middle\" x=\"50\" y=\"-52.8\" font-family=\"Helvetica,sans-Serif\" font-size=\"14.00\">gini = 0.0</text>\n<text text-anchor=\"middle\" x=\"50\" y=\"-37.8\" font-family=\"Helvetica,sans-Serif\" font-size=\"14.00\">samples = 1</text>\n<text text-anchor=\"middle\" x=\"50\" y=\"-22.8\" font-family=\"Helvetica,sans-Serif\" font-size=\"14.00\">value = [0, 1]</text>\n<text text-anchor=\"middle\" x=\"50\" y=\"-7.8\" font-family=\"Helvetica,sans-Serif\" font-size=\"14.00\">class = Churn</text>\n</g>\n<!-- 3&#45;&gt;4 -->\n<g id=\"edge4\" class=\"edge\">\n<title>3&#45;&gt;4</title>\n<path fill=\"none\" stroke=\"black\" d=\"M127.83,-103.73C117.19,-94.33 105.88,-84.35 95.28,-74.99\"/>\n<polygon fill=\"black\" stroke=\"black\" points=\"97.52,-72.3 87.71,-68.3 92.89,-77.54 97.52,-72.3\"/>\n</g>\n<!-- 5 -->\n<g id=\"node6\" class=\"node\">\n<title>5</title>\n<polygon fill=\"#e58139\" stroke=\"black\" points=\"243.5,-68 118.5,-68 118.5,0 243.5,0 243.5,-68\"/>\n<text text-anchor=\"middle\" x=\"181\" y=\"-52.8\" font-family=\"Helvetica,sans-Serif\" font-size=\"14.00\">gini = 0.0</text>\n<text text-anchor=\"middle\" x=\"181\" y=\"-37.8\" font-family=\"Helvetica,sans-Serif\" font-size=\"14.00\">samples = 37</text>\n<text text-anchor=\"middle\" x=\"181\" y=\"-22.8\" font-family=\"Helvetica,sans-Serif\" font-size=\"14.00\">value = [37, 0]</text>\n<text text-anchor=\"middle\" x=\"181\" y=\"-7.8\" font-family=\"Helvetica,sans-Serif\" font-size=\"14.00\">class = Not Churn</text>\n</g>\n<!-- 3&#45;&gt;5 -->\n<g id=\"edge5\" class=\"edge\">\n<title>3&#45;&gt;5</title>\n<path fill=\"none\" stroke=\"black\" d=\"M176.61,-103.73C177.14,-95.43 177.7,-86.67 178.23,-78.28\"/>\n<polygon fill=\"black\" stroke=\"black\" points=\"181.73,-78.5 178.87,-68.3 174.74,-78.06 181.73,-78.5\"/>\n</g>\n<!-- 7 -->\n<g id=\"node8\" class=\"node\">\n<title>7</title>\n<polygon fill=\"#399de5\" stroke=\"black\" points=\"376,-68 276,-68 276,0 376,0 376,-68\"/>\n<text text-anchor=\"middle\" x=\"326\" y=\"-52.8\" font-family=\"Helvetica,sans-Serif\" font-size=\"14.00\">gini = 0.0</text>\n<text text-anchor=\"middle\" x=\"326\" y=\"-37.8\" font-family=\"Helvetica,sans-Serif\" font-size=\"14.00\">samples = 8</text>\n<text text-anchor=\"middle\" x=\"326\" y=\"-22.8\" font-family=\"Helvetica,sans-Serif\" font-size=\"14.00\">value = [0, 8]</text>\n<text text-anchor=\"middle\" x=\"326\" y=\"-7.8\" font-family=\"Helvetica,sans-Serif\" font-size=\"14.00\">class = Churn</text>\n</g>\n<!-- 6&#45;&gt;7 -->\n<g id=\"edge7\" class=\"edge\">\n<title>6&#45;&gt;7</title>\n<path fill=\"none\" stroke=\"black\" d=\"M330.39,-103.73C329.86,-95.43 329.3,-86.67 328.77,-78.28\"/>\n<polygon fill=\"black\" stroke=\"black\" points=\"332.26,-78.06 328.13,-68.3 325.27,-78.5 332.26,-78.06\"/>\n</g>\n<!-- 8 -->\n<g id=\"node9\" class=\"node\">\n<title>8</title>\n<polygon fill=\"#e58139\" stroke=\"black\" points=\"519.5,-68 394.5,-68 394.5,0 519.5,0 519.5,-68\"/>\n<text text-anchor=\"middle\" x=\"457\" y=\"-52.8\" font-family=\"Helvetica,sans-Serif\" font-size=\"14.00\">gini = 0.0</text>\n<text text-anchor=\"middle\" x=\"457\" y=\"-37.8\" font-family=\"Helvetica,sans-Serif\" font-size=\"14.00\">samples = 3</text>\n<text text-anchor=\"middle\" x=\"457\" y=\"-22.8\" font-family=\"Helvetica,sans-Serif\" font-size=\"14.00\">value = [3, 0]</text>\n<text text-anchor=\"middle\" x=\"457\" y=\"-7.8\" font-family=\"Helvetica,sans-Serif\" font-size=\"14.00\">class = Not Churn</text>\n</g>\n<!-- 6&#45;&gt;8 -->\n<g id=\"edge8\" class=\"edge\">\n<title>6&#45;&gt;8</title>\n<path fill=\"none\" stroke=\"black\" d=\"M379.17,-103.73C389.81,-94.33 401.12,-84.35 411.72,-74.99\"/>\n<polygon fill=\"black\" stroke=\"black\" points=\"414.11,-77.54 419.29,-68.3 409.48,-72.3 414.11,-77.54\"/>\n</g>\n</g>\n</svg>\n",
      "text/plain": [
       "<graphviz.sources.Source at 0x12f504610>"
      ]
     },
     "execution_count": 17,
     "metadata": {},
     "output_type": "execute_result"
    }
   ],
   "source": [
    "# create a dot data model\n",
    "dot_data =  tree.export_graphviz(clf, out_file=None, \n",
    "                                feature_names=X_train.columns,  \n",
    "                                class_names=['Not Churn', 'Churn'],\n",
    "                                filled=True)\n",
    "\n",
    "# visualize the decision tree\n",
    "graph = graphviz.Source(dot_data, format=\"png\") \n",
    "graph"
   ]
  },
  {
   "cell_type": "markdown",
   "metadata": {},
   "source": [
    "### 4. Evaluation"
   ]
  },
  {
   "cell_type": "markdown",
   "metadata": {},
   "source": [
    "#### 4.1. Accuracy Using the Training Set"
   ]
  },
  {
   "cell_type": "code",
   "execution_count": 18,
   "metadata": {},
   "outputs": [
    {
     "name": "stdout",
     "output_type": "stream",
     "text": [
      "Tree Accuracy: 1.0\n",
      "TREE CLASSIFICATION REPORT\n",
      "              precision    recall  f1-score   support\n",
      "\n",
      "           0       1.00      1.00      1.00        40\n",
      "           1       1.00      1.00      1.00        40\n",
      "\n",
      "    accuracy                           1.00        80\n",
      "   macro avg       1.00      1.00      1.00        80\n",
      "weighted avg       1.00      1.00      1.00        80\n",
      "\n"
     ]
    }
   ],
   "source": [
    "# predict churn using the train set\n",
    "y_pred_train_set = clf.predict(X_train)\n",
    "# find accuracy\n",
    "accuracy_train_set = accuracy_score(y_pred_train_set, y_train)\n",
    "\n",
    "print('Tree Accuracy: {}'.format(accuracy_train_set))\n",
    "print('TREE CLASSIFICATION REPORT')\n",
    "print(classification_report(y_train, y_pred_train_set))"
   ]
  },
  {
   "cell_type": "markdown",
   "metadata": {},
   "source": [
    "#### 4.2. Accuracy Using the Testing Set"
   ]
  },
  {
   "cell_type": "code",
   "execution_count": 19,
   "metadata": {},
   "outputs": [
    {
     "name": "stdout",
     "output_type": "stream",
     "text": [
      "Tree Accuracy: 0.95\n",
      "TREE CLASSIFICATION REPORT\n",
      "              precision    recall  f1-score   support\n",
      "\n",
      "           0       1.00      0.90      0.95        10\n",
      "           1       0.91      1.00      0.95        10\n",
      "\n",
      "    accuracy                           0.95        20\n",
      "   macro avg       0.95      0.95      0.95        20\n",
      "weighted avg       0.95      0.95      0.95        20\n",
      "\n"
     ]
    }
   ],
   "source": [
    "# predict churn using the test set\n",
    "y_pred_test_set = clf.predict(X_test)\n",
    "# find accuracy\n",
    "accuracy_test_set = accuracy_score(y_pred_test_set, y_test)\n",
    "\n",
    "print('Tree Accuracy: {}'.format(accuracy_test_set))\n",
    "print('TREE CLASSIFICATION REPORT')\n",
    "print(classification_report(y_test, y_pred_test_set))"
   ]
  }
 ],
 "metadata": {
  "interpreter": {
   "hash": "7c60f9ef2edec3da2765f2d606262a95d5abed43f4935b5205ac15d3859a76a4"
  },
  "kernelspec": {
   "display_name": "Python 3.8.12 ('f21sc')",
   "language": "python",
   "name": "python3"
  },
  "language_info": {
   "codemirror_mode": {
    "name": "ipython",
    "version": 3
   },
   "file_extension": ".py",
   "mimetype": "text/x-python",
   "name": "python",
   "nbconvert_exporter": "python",
   "pygments_lexer": "ipython3",
   "version": "3.8.12"
  },
  "orig_nbformat": 4
 },
 "nbformat": 4,
 "nbformat_minor": 2
}
